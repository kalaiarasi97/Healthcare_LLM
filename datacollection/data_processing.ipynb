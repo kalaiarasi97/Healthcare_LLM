{
  "cells": [
    {
      "cell_type": "code",
      "execution_count": 1,
      "metadata": {
        "id": "1P4kUSpnlcH6"
      },
      "outputs": [],
      "source": [
        "import pandas as pd\n",
        "from web_scrapping import web_scrape_wikipedia, web_scrape_seattle_children"
      ]
    },
    {
      "cell_type": "code",
      "execution_count": 2,
      "metadata": {
        "id": "xHPSQqk7ltR4"
      },
      "outputs": [],
      "source": [
        "drug_data = pd.read_csv(\"/Users/shobanasiranjeevilu/Downloads/Healthcare_LLM/drug_data.csv\")"
      ]
    },
    {
      "cell_type": "code",
      "execution_count": 3,
      "metadata": {
        "id": "cUQ1wc9VmF1o"
      },
      "outputs": [],
      "source": [
        "diseases = list(drug_data.Prescribed_for.dropna().unique())"
      ]
    },
    {
      "cell_type": "code",
      "execution_count": 4,
      "metadata": {},
      "outputs": [],
      "source": [
        "diseases_list = []"
      ]
    },
    {
      "cell_type": "code",
      "execution_count": 5,
      "metadata": {
        "colab": {
          "base_uri": "https://localhost:8080/"
        },
        "id": "1qoAZM3unn8b",
        "outputId": "cb83b7db-3312-46cf-d875-f9a375e309bb"
      },
      "outputs": [],
      "source": [
        "# cleaning the unnecesary disease type is yet to be processed\n",
        "disease_list = []\n",
        "for disease in diseases:\n",
        "  if \"</span>\" not in disease:\n",
        "    disease_list.append(disease)\n"
      ]
    },
    {
      "cell_type": "code",
      "execution_count": 6,
      "metadata": {
        "id": "AOxtlEJOVrw0"
      },
      "outputs": [],
      "source": [
        "#  only considering drugs which has medium to high rating\n",
        "filtered_df = drug_data[(drug_data['Prescribed_for'].isin(disease_list)) & (drug_data['User_Rating']>=5)]"
      ]
    },
    {
      "cell_type": "code",
      "execution_count": 7,
      "metadata": {
        "id": "mKPtgymZY1Fl"
      },
      "outputs": [],
      "source": [
        "aggregated_df = filtered_df.groupby('Prescribed_for').agg(DrugName_list=('drugName', 'unique')).reset_index(drop=False)"
      ]
    },
    {
      "cell_type": "code",
      "execution_count": 8,
      "metadata": {
        "id": "d_mkU1MHZyh1"
      },
      "outputs": [],
      "source": [
        "diseases_final = list(aggregated_df['Prescribed_for'])"
      ]
    },
    {
      "cell_type": "markdown",
      "metadata": {
        "id": "rXdh-xAeTCJN"
      },
      "source": [
        "### Web scraping to retrive symptoms from wikipedia"
      ]
    },
    {
      "cell_type": "code",
      "execution_count": 9,
      "metadata": {
        "id": "-hJUpBJkjUh2"
      },
      "outputs": [],
      "source": [
        "disease_with_symptoms = web_scrape_wikipedia(diseases_final)"
      ]
    },
    {
      "cell_type": "code",
      "execution_count": 11,
      "metadata": {},
      "outputs": [
        {
          "name": "stdout",
          "output_type": "stream",
          "text": [
            "Number of diseases retrived from wikipedia is 502\n"
          ]
        }
      ],
      "source": [
        "print(\"Number of diseases retrived from wikipedia is {}\".format(len(disease_with_symptoms.keys())))"
      ]
    },
    {
      "cell_type": "code",
      "execution_count": 12,
      "metadata": {},
      "outputs": [],
      "source": [
        "# extracting diseases that's not been retrieved from wikipedia\n",
        "\n",
        "unretrived_diseases = [key for key in diseases_final if key not in disease_with_symptoms.keys()]"
      ]
    },
    {
      "cell_type": "code",
      "execution_count": 13,
      "metadata": {},
      "outputs": [
        {
          "name": "stdout",
          "output_type": "stream",
          "text": [
            "Number of diseases unretrived from wikipedia is 132\n"
          ]
        }
      ],
      "source": [
        "print(\"Number of diseases unretrived from wikipedia is {}\".format(len(unretrived_diseases)))"
      ]
    },
    {
      "cell_type": "markdown",
      "metadata": {},
      "source": [
        "### Web scraping to retrive remaining disease's symptoms from seattlechildren's"
      ]
    },
    {
      "cell_type": "code",
      "execution_count": 14,
      "metadata": {},
      "outputs": [],
      "source": [
        "base_url = 'https://www.seattlechildrens.org'\n",
        "\n",
        "unretrived_diseases_symptoms = web_scrape_seattle_children(base_url, unretrived_diseases)"
      ]
    },
    {
      "cell_type": "code",
      "execution_count": 16,
      "metadata": {},
      "outputs": [],
      "source": [
        "final_disease_symptoms = {**disease_with_symptoms, **unretrived_diseases_symptoms}"
      ]
    },
    {
      "cell_type": "code",
      "execution_count": 21,
      "metadata": {},
      "outputs": [
        {
          "name": "stdout",
          "output_type": "stream",
          "text": [
            "Final number of diseases available with symptoms 504\n"
          ]
        }
      ],
      "source": [
        "print(\"Final number of diseases available with symptoms {}\".format(len(final_disease_symptoms.keys())))"
      ]
    },
    {
      "cell_type": "markdown",
      "metadata": {},
      "source": [
        "### creating final dataframe with all the disease's and symptoms with drug list"
      ]
    },
    {
      "cell_type": "code",
      "execution_count": 22,
      "metadata": {},
      "outputs": [],
      "source": [
        "prescribed_for, symptoms = [], []\n",
        "for key, value in final_disease_symptoms.items():\n",
        "    prescribed_for.append(key)\n",
        "    symptoms.append(value)\n"
      ]
    },
    {
      "cell_type": "code",
      "execution_count": 24,
      "metadata": {},
      "outputs": [],
      "source": [
        "symptoms_df = pd.DataFrame({'Prescribed_for': prescribed_for, 'Symptoms': symptoms}, index=range(1, len(final_disease_symptoms) + 1))"
      ]
    },
    {
      "cell_type": "code",
      "execution_count": 25,
      "metadata": {},
      "outputs": [],
      "source": [
        "final_df = aggregated_df.merge(symptoms_df,on='Prescribed_for', how='left')"
      ]
    },
    {
      "cell_type": "code",
      "execution_count": 27,
      "metadata": {},
      "outputs": [
        {
          "data": {
            "text/html": [
              "<div>\n",
              "<style scoped>\n",
              "    .dataframe tbody tr th:only-of-type {\n",
              "        vertical-align: middle;\n",
              "    }\n",
              "\n",
              "    .dataframe tbody tr th {\n",
              "        vertical-align: top;\n",
              "    }\n",
              "\n",
              "    .dataframe thead th {\n",
              "        text-align: right;\n",
              "    }\n",
              "</style>\n",
              "<table border=\"1\" class=\"dataframe\">\n",
              "  <thead>\n",
              "    <tr style=\"text-align: right;\">\n",
              "      <th></th>\n",
              "      <th>Prescribed_for</th>\n",
              "      <th>DrugName_list</th>\n",
              "      <th>Symptoms</th>\n",
              "    </tr>\n",
              "  </thead>\n",
              "  <tbody>\n",
              "    <tr>\n",
              "      <th>0</th>\n",
              "      <td>ADHD</td>\n",
              "      <td>[Clonidine, Bupropion, Vyvanse, Dexmethylpheni...</td>\n",
              "      <td>Inattention carelessness hyperactivity executi...</td>\n",
              "    </tr>\n",
              "    <tr>\n",
              "      <th>1</th>\n",
              "      <td>AIDS Related Wasting</td>\n",
              "      <td>[Serostim]</td>\n",
              "      <td>Early : Flu-like illness Later : Large lymph n...</td>\n",
              "    </tr>\n",
              "    <tr>\n",
              "      <th>2</th>\n",
              "      <td>Abnormal Uterine Bleeding</td>\n",
              "      <td>[Ethinyl estradiol / levonorgestrel, Mirena, L...</td>\n",
              "      <td>Irregular, abnormally frequent, prolonged, or ...</td>\n",
              "    </tr>\n",
              "    <tr>\n",
              "      <th>3</th>\n",
              "      <td>Abortion</td>\n",
              "      <td>[Misoprostol]</td>\n",
              "      <td>NaN</td>\n",
              "    </tr>\n",
              "    <tr>\n",
              "      <th>4</th>\n",
              "      <td>Acetaminophen Overdose</td>\n",
              "      <td>[Mucomyst-10]</td>\n",
              "      <td>Early : Non specific, feeling tired, abdominal...</td>\n",
              "    </tr>\n",
              "  </tbody>\n",
              "</table>\n",
              "</div>"
            ],
            "text/plain": [
              "              Prescribed_for  \\\n",
              "0                       ADHD   \n",
              "1       AIDS Related Wasting   \n",
              "2  Abnormal Uterine Bleeding   \n",
              "3                   Abortion   \n",
              "4     Acetaminophen Overdose   \n",
              "\n",
              "                                       DrugName_list  \\\n",
              "0  [Clonidine, Bupropion, Vyvanse, Dexmethylpheni...   \n",
              "1                                         [Serostim]   \n",
              "2  [Ethinyl estradiol / levonorgestrel, Mirena, L...   \n",
              "3                                      [Misoprostol]   \n",
              "4                                      [Mucomyst-10]   \n",
              "\n",
              "                                            Symptoms  \n",
              "0  Inattention carelessness hyperactivity executi...  \n",
              "1  Early : Flu-like illness Later : Large lymph n...  \n",
              "2  Irregular, abnormally frequent, prolonged, or ...  \n",
              "3                                                NaN  \n",
              "4  Early : Non specific, feeling tired, abdominal...  "
            ]
          },
          "execution_count": 27,
          "metadata": {},
          "output_type": "execute_result"
        }
      ],
      "source": [
        "final_df.head(5)"
      ]
    },
    {
      "cell_type": "code",
      "execution_count": null,
      "metadata": {},
      "outputs": [],
      "source": []
    }
  ],
  "metadata": {
    "colab": {
      "provenance": []
    },
    "kernelspec": {
      "display_name": "Python 3",
      "name": "python3"
    },
    "language_info": {
      "codemirror_mode": {
        "name": "ipython",
        "version": 3
      },
      "file_extension": ".py",
      "mimetype": "text/x-python",
      "name": "python",
      "nbconvert_exporter": "python",
      "pygments_lexer": "ipython3",
      "version": "3.10.8"
    }
  },
  "nbformat": 4,
  "nbformat_minor": 0
}
