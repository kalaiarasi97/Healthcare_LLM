{
  "cells": [
    {
      "cell_type": "code",
      "execution_count": 1,
      "metadata": {
        "id": "1P4kUSpnlcH6"
      },
      "outputs": [],
      "source": [
        "import pandas as pd\n",
        "from web_scrapping import web_scrape"
      ]
    },
    {
      "cell_type": "code",
      "execution_count": 9,
      "metadata": {
        "id": "xHPSQqk7ltR4"
      },
      "outputs": [],
      "source": [
        "drug_data = pd.read_csv(\"/Users/shobanasiranjeevilu/Downloads/Healthcare_LLM/drug_data.csv\")"
      ]
    },
    {
      "cell_type": "code",
      "execution_count": 10,
      "metadata": {
        "id": "cUQ1wc9VmF1o"
      },
      "outputs": [],
      "source": [
        "diseases = drug_data.Prescribed_for.unique()"
      ]
    },
    {
      "cell_type": "code",
      "execution_count": 11,
      "metadata": {
        "id": "wBb7JqY4naB2"
      },
      "outputs": [],
      "source": [
        "# considering subset of data\n",
        "subset_of_diseases = list(diseases[236:472])"
      ]
    },
    {
      "cell_type": "code",
      "execution_count": 12,
      "metadata": {
        "colab": {
          "base_uri": "https://localhost:8080/"
        },
        "id": "vRXByE6JXO6z",
        "outputId": "7d4970d4-0d70-4d69-c169-9ec1a19ab366"
      },
      "outputs": [
        {
          "data": {
            "text/plain": [
              "236"
            ]
          },
          "execution_count": 12,
          "metadata": {},
          "output_type": "execute_result"
        }
      ],
      "source": [
        "len(subset_of_diseases)"
      ]
    },
    {
      "cell_type": "code",
      "execution_count": 21,
      "metadata": {
        "colab": {
          "base_uri": "https://localhost:8080/"
        },
        "id": "1qoAZM3unn8b",
        "outputId": "cb83b7db-3312-46cf-d875-f9a375e309bb"
      },
      "outputs": [],
      "source": [
        "# clenaing the unnecesary disease type is yet to be processed\n",
        "\n",
        "disease_list = []\n",
        "for disease in subset_of_diseases:\n",
        "  if \"</span>\" not in disease:\n",
        "    disease_list.append(disease)\n"
      ]
    },
    {
      "cell_type": "code",
      "execution_count": 16,
      "metadata": {
        "id": "AOxtlEJOVrw0"
      },
      "outputs": [],
      "source": [
        "#  only considering drugs which has medium to high rating\n",
        "filtered_df = drug_data[(drug_data['Prescribed_for'].isin(disease_list)) & (drug_data['User_Rating']>=5)]"
      ]
    },
    {
      "cell_type": "code",
      "execution_count": 17,
      "metadata": {
        "id": "mKPtgymZY1Fl"
      },
      "outputs": [],
      "source": [
        "aggregated_df = filtered_df.groupby('Prescribed_for').agg(DrugName_list=('drugName', 'unique')).reset_index(drop=False)\n"
      ]
    },
    {
      "cell_type": "code",
      "execution_count": 18,
      "metadata": {
        "colab": {
          "base_uri": "https://localhost:8080/",
          "height": 424
        },
        "id": "0X2hdIcskAHl",
        "outputId": "6c7504bf-9903-48ea-c693-319540b805d9"
      },
      "outputs": [
        {
          "data": {
            "text/html": [
              "<div>\n",
              "<style scoped>\n",
              "    .dataframe tbody tr th:only-of-type {\n",
              "        vertical-align: middle;\n",
              "    }\n",
              "\n",
              "    .dataframe tbody tr th {\n",
              "        vertical-align: top;\n",
              "    }\n",
              "\n",
              "    .dataframe thead th {\n",
              "        text-align: right;\n",
              "    }\n",
              "</style>\n",
              "<table border=\"1\" class=\"dataframe\">\n",
              "  <thead>\n",
              "    <tr style=\"text-align: right;\">\n",
              "      <th></th>\n",
              "      <th>Prescribed_for</th>\n",
              "      <th>DrugName_list</th>\n",
              "    </tr>\n",
              "  </thead>\n",
              "  <tbody>\n",
              "    <tr>\n",
              "      <th>0</th>\n",
              "      <td>AIDS Related Wasting</td>\n",
              "      <td>[Serostim]</td>\n",
              "    </tr>\n",
              "    <tr>\n",
              "      <th>1</th>\n",
              "      <td>Abortion</td>\n",
              "      <td>[Misoprostol]</td>\n",
              "    </tr>\n",
              "    <tr>\n",
              "      <th>2</th>\n",
              "      <td>Acute Coronary Syndrome</td>\n",
              "      <td>[Brilinta, Ticagrelor, Prasugrel]</td>\n",
              "    </tr>\n",
              "    <tr>\n",
              "      <th>3</th>\n",
              "      <td>Acute Lymphoblastic Leukemia</td>\n",
              "      <td>[Sprycel]</td>\n",
              "    </tr>\n",
              "    <tr>\n",
              "      <th>4</th>\n",
              "      <td>Agitated State</td>\n",
              "      <td>[Aripiprazole, Abilify]</td>\n",
              "    </tr>\n",
              "    <tr>\n",
              "      <th>...</th>\n",
              "      <td>...</td>\n",
              "      <td>...</td>\n",
              "    </tr>\n",
              "    <tr>\n",
              "      <th>213</th>\n",
              "      <td>min)</td>\n",
              "      <td>[Metformin, Glyburide / metformin, Dapaglifloz...</td>\n",
              "    </tr>\n",
              "    <tr>\n",
              "      <th>214</th>\n",
              "      <td>moterol / mometasone)</td>\n",
              "      <td>[Formoterol / mometasone]</td>\n",
              "    </tr>\n",
              "    <tr>\n",
              "      <th>215</th>\n",
              "      <td>moterol)</td>\n",
              "      <td>[Budesonide / formoterol, Formoterol, Arformot...</td>\n",
              "    </tr>\n",
              "    <tr>\n",
              "      <th>216</th>\n",
              "      <td>von Willebrand's Disease</td>\n",
              "      <td>[Desmopressin]</td>\n",
              "    </tr>\n",
              "    <tr>\n",
              "      <th>217</th>\n",
              "      <td>zen Shoulde</td>\n",
              "      <td>[Diclofenac, Voltaren, Aleve, Relafen]</td>\n",
              "    </tr>\n",
              "  </tbody>\n",
              "</table>\n",
              "<p>218 rows × 2 columns</p>\n",
              "</div>"
            ],
            "text/plain": [
              "                   Prescribed_for  \\\n",
              "0            AIDS Related Wasting   \n",
              "1                        Abortion   \n",
              "2         Acute Coronary Syndrome   \n",
              "3    Acute Lymphoblastic Leukemia   \n",
              "4                  Agitated State   \n",
              "..                            ...   \n",
              "213                          min)   \n",
              "214         moterol / mometasone)   \n",
              "215                      moterol)   \n",
              "216      von Willebrand's Disease   \n",
              "217                   zen Shoulde   \n",
              "\n",
              "                                         DrugName_list  \n",
              "0                                           [Serostim]  \n",
              "1                                        [Misoprostol]  \n",
              "2                    [Brilinta, Ticagrelor, Prasugrel]  \n",
              "3                                            [Sprycel]  \n",
              "4                              [Aripiprazole, Abilify]  \n",
              "..                                                 ...  \n",
              "213  [Metformin, Glyburide / metformin, Dapaglifloz...  \n",
              "214                          [Formoterol / mometasone]  \n",
              "215  [Budesonide / formoterol, Formoterol, Arformot...  \n",
              "216                                     [Desmopressin]  \n",
              "217             [Diclofenac, Voltaren, Aleve, Relafen]  \n",
              "\n",
              "[218 rows x 2 columns]"
            ]
          },
          "execution_count": 18,
          "metadata": {},
          "output_type": "execute_result"
        }
      ],
      "source": [
        "aggregated_df"
      ]
    },
    {
      "cell_type": "code",
      "execution_count": 22,
      "metadata": {
        "id": "d_mkU1MHZyh1"
      },
      "outputs": [],
      "source": [
        "diseases_final = list(aggregated_df['Prescribed_for'])"
      ]
    },
    {
      "cell_type": "markdown",
      "metadata": {
        "id": "rXdh-xAeTCJN"
      },
      "source": [
        "### Web scraping to retrive symptoms for subset of diseases"
      ]
    },
    {
      "cell_type": "code",
      "execution_count": 23,
      "metadata": {
        "id": "-hJUpBJkjUh2"
      },
      "outputs": [],
      "source": [
        "disease_with_symptoms = web_scrape(diseases_final)"
      ]
    },
    {
      "cell_type": "code",
      "execution_count": 30,
      "metadata": {},
      "outputs": [],
      "source": [
        "prescribed_for, symptoms = [], []\n",
        "for key, value in disease_with_symptoms.items():\n",
        "    prescribed_for.append(key)\n",
        "    symptoms.append(value)\n"
      ]
    },
    {
      "cell_type": "code",
      "execution_count": 33,
      "metadata": {},
      "outputs": [],
      "source": [
        "symptoms_df = pd.DataFrame({'Prescribed_for': prescribed_for, 'Symptoms': symptoms}, index=range(1, len(disease_with_symptoms) + 1))"
      ]
    },
    {
      "cell_type": "code",
      "execution_count": 39,
      "metadata": {},
      "outputs": [],
      "source": [
        "subset_df = aggregated_df.merge(symptoms_df,on='Prescribed_for', how='left')"
      ]
    },
    {
      "cell_type": "code",
      "execution_count": null,
      "metadata": {},
      "outputs": [],
      "source": []
    }
  ],
  "metadata": {
    "colab": {
      "provenance": []
    },
    "kernelspec": {
      "display_name": "Python 3",
      "name": "python3"
    },
    "language_info": {
      "codemirror_mode": {
        "name": "ipython",
        "version": 3
      },
      "file_extension": ".py",
      "mimetype": "text/x-python",
      "name": "python",
      "nbconvert_exporter": "python",
      "pygments_lexer": "ipython3",
      "version": "3.10.8"
    }
  },
  "nbformat": 4,
  "nbformat_minor": 0
}
