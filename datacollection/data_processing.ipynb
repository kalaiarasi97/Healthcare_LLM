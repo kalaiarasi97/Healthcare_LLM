{
  "cells": [
    {
      "cell_type": "code",
      "execution_count": 83,
      "metadata": {
        "id": "1P4kUSpnlcH6"
      },
      "outputs": [],
      "source": [
        "import pandas as pd\n",
        "from web_scrapping import web_scrape_wikipedia, web_scrape_seattle_children"
      ]
    },
    {
      "cell_type": "code",
      "execution_count": 84,
      "metadata": {
        "id": "xHPSQqk7ltR4"
      },
      "outputs": [],
      "source": [
        "drug_data = pd.read_csv(\"/Users/shobanasiranjeevilu/Downloads/Healthcare_LLM/drug_data.csv\")"
      ]
    },
    {
      "cell_type": "code",
      "execution_count": 85,
      "metadata": {
        "id": "cUQ1wc9VmF1o"
      },
      "outputs": [],
      "source": [
        "diseases = list(drug_data.Prescribed_for.dropna().unique())"
      ]
    },
    {
      "cell_type": "code",
      "execution_count": 86,
      "metadata": {
        "id": "32z5m9M8JXyI"
      },
      "outputs": [],
      "source": [
        "diseases_list = []"
      ]
    },
    {
      "cell_type": "code",
      "execution_count": 87,
      "metadata": {
        "id": "1qoAZM3unn8b"
      },
      "outputs": [],
      "source": [
        "# cleaning the unnecesary disease type is yet to be processed\n",
        "disease_list = []\n",
        "for disease in diseases:\n",
        "  if \"</span>\" not in disease:\n",
        "    disease_list.append(disease)\n"
      ]
    },
    {
      "cell_type": "code",
      "execution_count": 88,
      "metadata": {
        "id": "AOxtlEJOVrw0"
      },
      "outputs": [],
      "source": [
        "#  only considering drugs which has medium to high rating\n",
        "filtered_df = drug_data[(drug_data['Prescribed_for'].isin(disease_list)) & (drug_data['User_Rating']>=5)]"
      ]
    },
    {
      "cell_type": "code",
      "execution_count": 89,
      "metadata": {
        "id": "mKPtgymZY1Fl"
      },
      "outputs": [],
      "source": [
        "aggregated_df = filtered_df.groupby('Prescribed_for').agg(DrugName_list=('drugName', 'unique')).reset_index(drop=False)"
      ]
    },
    {
      "cell_type": "code",
      "execution_count": 90,
      "metadata": {
        "id": "d_mkU1MHZyh1"
      },
      "outputs": [],
      "source": [
        "diseases_final = list(aggregated_df['Prescribed_for'])"
      ]
    },
    {
      "cell_type": "markdown",
      "metadata": {
        "id": "rXdh-xAeTCJN"
      },
      "source": [
        "### Web scraping to retrive symptoms from wikipedia"
      ]
    },
    {
      "cell_type": "code",
      "execution_count": 91,
      "metadata": {
        "id": "-hJUpBJkjUh2"
      },
      "outputs": [],
      "source": [
        "disease_with_symptoms = web_scrape_wikipedia(diseases_final)"
      ]
    },
    {
      "cell_type": "code",
      "execution_count": 92,
      "metadata": {
        "colab": {
          "base_uri": "https://localhost:8080/"
        },
        "id": "_fiiFy1BJXyN",
        "outputId": "25e38559-2ee8-4c0e-d575-9e71535154cd"
      },
      "outputs": [
        {
          "output_type": "stream",
          "name": "stdout",
          "text": [
            "Number of diseases retrived from wikipedia is 500\n"
          ]
        }
      ],
      "source": [
        "print(\"Number of diseases retrived from wikipedia is {}\".format(len(disease_with_symptoms.keys())))"
      ]
    },
    {
      "cell_type": "code",
      "execution_count": 93,
      "metadata": {
        "id": "UzQkAzDmJXyQ"
      },
      "outputs": [],
      "source": [
        "# extracting diseases that's not been retrieved from wikipedia\n",
        "\n",
        "unretrived_diseases = [key for key in diseases_final if key not in disease_with_symptoms.keys()]"
      ]
    },
    {
      "cell_type": "code",
      "execution_count": 94,
      "metadata": {
        "colab": {
          "base_uri": "https://localhost:8080/"
        },
        "id": "eNKG43ftJXyQ",
        "outputId": "f8e001f0-b7c6-42e9-c6ef-17bae5a8a57b"
      },
      "outputs": [
        {
          "output_type": "stream",
          "name": "stdout",
          "text": [
            "Number of diseases unretrived from wikipedia is 134\n"
          ]
        }
      ],
      "source": [
        "print(\"Number of diseases unretrived from wikipedia is {}\".format(len(unretrived_diseases)))"
      ]
    },
    {
      "cell_type": "markdown",
      "metadata": {
        "id": "yyrxiFPTJXyR"
      },
      "source": [
        "### Web scraping to retrive remaining disease's symptoms from seattlechildren's"
      ]
    },
    {
      "cell_type": "code",
      "execution_count": 95,
      "metadata": {
        "id": "0XXoRgBvJXyR"
      },
      "outputs": [],
      "source": [
        "base_url = 'https://www.seattlechildrens.org'\n",
        "\n",
        "unretrived_diseases_symptoms = web_scrape_seattle_children(base_url, unretrived_diseases)"
      ]
    },
    {
      "cell_type": "code",
      "execution_count": 96,
      "metadata": {
        "id": "WT211oalJXyS"
      },
      "outputs": [],
      "source": [
        "final_disease_symptoms = {**disease_with_symptoms, **unretrived_diseases_symptoms}"
      ]
    },
    {
      "cell_type": "code",
      "execution_count": 97,
      "metadata": {
        "colab": {
          "base_uri": "https://localhost:8080/"
        },
        "id": "CDNQwaqZJXyT",
        "outputId": "8b3b0bc2-ab3b-48d9-ef40-22846074c167"
      },
      "outputs": [
        {
          "output_type": "stream",
          "name": "stdout",
          "text": [
            "Final number of diseases available with symptoms 502\n"
          ]
        }
      ],
      "source": [
        "print(\"Final number of diseases available with symptoms {}\".format(len(final_disease_symptoms.keys())))"
      ]
    },
    {
      "cell_type": "markdown",
      "metadata": {
        "id": "PIy6_VpbJXyV"
      },
      "source": [
        "### creating final dataframe with all the disease's and symptoms with drug list"
      ]
    },
    {
      "cell_type": "code",
      "execution_count": 98,
      "metadata": {
        "id": "YFK5RiERJXyV"
      },
      "outputs": [],
      "source": [
        "prescribed_for, symptoms = [], []\n",
        "for key, value in final_disease_symptoms.items():\n",
        "    prescribed_for.append(key)\n",
        "    symptoms.append(value)\n"
      ]
    },
    {
      "cell_type": "code",
      "execution_count": 99,
      "metadata": {
        "id": "eKug70lLJXyV"
      },
      "outputs": [],
      "source": [
        "symptoms_df = pd.DataFrame({'Prescribed_for': prescribed_for, 'Symptoms': symptoms}, index=range(1, len(final_disease_symptoms) + 1))"
      ]
    },
    {
      "cell_type": "code",
      "execution_count": 100,
      "metadata": {
        "id": "E--_YVlsJXyW"
      },
      "outputs": [],
      "source": [
        "final_df = aggregated_df.merge(symptoms_df,on='Prescribed_for', how='left')"
      ]
    },
    {
      "cell_type": "code",
      "execution_count": 101,
      "metadata": {
        "colab": {
          "base_uri": "https://localhost:8080/",
          "height": 206
        },
        "id": "8vqmBlwHJXyW",
        "outputId": "ab16184d-f560-444b-baaf-ab9a400f158b"
      },
      "outputs": [
        {
          "output_type": "execute_result",
          "data": {
            "text/plain": [
              "              Prescribed_for  \\\n",
              "0                       ADHD   \n",
              "1       AIDS Related Wasting   \n",
              "2  Abnormal Uterine Bleeding   \n",
              "3                   Abortion   \n",
              "4     Acetaminophen Overdose   \n",
              "\n",
              "                                       DrugName_list  \\\n",
              "0  [Clonidine, Bupropion, Vyvanse, Dexmethylpheni...   \n",
              "1                                         [Serostim]   \n",
              "2  [Ethinyl estradiol / levonorgestrel, Mirena, L...   \n",
              "3                                      [Misoprostol]   \n",
              "4                                      [Mucomyst-10]   \n",
              "\n",
              "                                            Symptoms  \n",
              "0  Inattention carelessness hyperactivity executi...  \n",
              "1  Early : Flu-like illness Later : Large lymph n...  \n",
              "2  Irregular, abnormally frequent, prolonged, or ...  \n",
              "3                                                NaN  \n",
              "4  Early : Non specific, feeling tired, abdominal...  "
            ],
            "text/html": [
              "\n",
              "  <div id=\"df-f4277405-b876-4045-8af0-0038d46e5d39\" class=\"colab-df-container\">\n",
              "    <div>\n",
              "<style scoped>\n",
              "    .dataframe tbody tr th:only-of-type {\n",
              "        vertical-align: middle;\n",
              "    }\n",
              "\n",
              "    .dataframe tbody tr th {\n",
              "        vertical-align: top;\n",
              "    }\n",
              "\n",
              "    .dataframe thead th {\n",
              "        text-align: right;\n",
              "    }\n",
              "</style>\n",
              "<table border=\"1\" class=\"dataframe\">\n",
              "  <thead>\n",
              "    <tr style=\"text-align: right;\">\n",
              "      <th></th>\n",
              "      <th>Prescribed_for</th>\n",
              "      <th>DrugName_list</th>\n",
              "      <th>Symptoms</th>\n",
              "    </tr>\n",
              "  </thead>\n",
              "  <tbody>\n",
              "    <tr>\n",
              "      <th>0</th>\n",
              "      <td>ADHD</td>\n",
              "      <td>[Clonidine, Bupropion, Vyvanse, Dexmethylpheni...</td>\n",
              "      <td>Inattention carelessness hyperactivity executi...</td>\n",
              "    </tr>\n",
              "    <tr>\n",
              "      <th>1</th>\n",
              "      <td>AIDS Related Wasting</td>\n",
              "      <td>[Serostim]</td>\n",
              "      <td>Early : Flu-like illness Later : Large lymph n...</td>\n",
              "    </tr>\n",
              "    <tr>\n",
              "      <th>2</th>\n",
              "      <td>Abnormal Uterine Bleeding</td>\n",
              "      <td>[Ethinyl estradiol / levonorgestrel, Mirena, L...</td>\n",
              "      <td>Irregular, abnormally frequent, prolonged, or ...</td>\n",
              "    </tr>\n",
              "    <tr>\n",
              "      <th>3</th>\n",
              "      <td>Abortion</td>\n",
              "      <td>[Misoprostol]</td>\n",
              "      <td>NaN</td>\n",
              "    </tr>\n",
              "    <tr>\n",
              "      <th>4</th>\n",
              "      <td>Acetaminophen Overdose</td>\n",
              "      <td>[Mucomyst-10]</td>\n",
              "      <td>Early : Non specific, feeling tired, abdominal...</td>\n",
              "    </tr>\n",
              "  </tbody>\n",
              "</table>\n",
              "</div>\n",
              "    <div class=\"colab-df-buttons\">\n",
              "\n",
              "  <div class=\"colab-df-container\">\n",
              "    <button class=\"colab-df-convert\" onclick=\"convertToInteractive('df-f4277405-b876-4045-8af0-0038d46e5d39')\"\n",
              "            title=\"Convert this dataframe to an interactive table.\"\n",
              "            style=\"display:none;\">\n",
              "\n",
              "  <svg xmlns=\"http://www.w3.org/2000/svg\" height=\"24px\" viewBox=\"0 -960 960 960\">\n",
              "    <path d=\"M120-120v-720h720v720H120Zm60-500h600v-160H180v160Zm220 220h160v-160H400v160Zm0 220h160v-160H400v160ZM180-400h160v-160H180v160Zm440 0h160v-160H620v160ZM180-180h160v-160H180v160Zm440 0h160v-160H620v160Z\"/>\n",
              "  </svg>\n",
              "    </button>\n",
              "\n",
              "  <style>\n",
              "    .colab-df-container {\n",
              "      display:flex;\n",
              "      gap: 12px;\n",
              "    }\n",
              "\n",
              "    .colab-df-convert {\n",
              "      background-color: #E8F0FE;\n",
              "      border: none;\n",
              "      border-radius: 50%;\n",
              "      cursor: pointer;\n",
              "      display: none;\n",
              "      fill: #1967D2;\n",
              "      height: 32px;\n",
              "      padding: 0 0 0 0;\n",
              "      width: 32px;\n",
              "    }\n",
              "\n",
              "    .colab-df-convert:hover {\n",
              "      background-color: #E2EBFA;\n",
              "      box-shadow: 0px 1px 2px rgba(60, 64, 67, 0.3), 0px 1px 3px 1px rgba(60, 64, 67, 0.15);\n",
              "      fill: #174EA6;\n",
              "    }\n",
              "\n",
              "    .colab-df-buttons div {\n",
              "      margin-bottom: 4px;\n",
              "    }\n",
              "\n",
              "    [theme=dark] .colab-df-convert {\n",
              "      background-color: #3B4455;\n",
              "      fill: #D2E3FC;\n",
              "    }\n",
              "\n",
              "    [theme=dark] .colab-df-convert:hover {\n",
              "      background-color: #434B5C;\n",
              "      box-shadow: 0px 1px 3px 1px rgba(0, 0, 0, 0.15);\n",
              "      filter: drop-shadow(0px 1px 2px rgba(0, 0, 0, 0.3));\n",
              "      fill: #FFFFFF;\n",
              "    }\n",
              "  </style>\n",
              "\n",
              "    <script>\n",
              "      const buttonEl =\n",
              "        document.querySelector('#df-f4277405-b876-4045-8af0-0038d46e5d39 button.colab-df-convert');\n",
              "      buttonEl.style.display =\n",
              "        google.colab.kernel.accessAllowed ? 'block' : 'none';\n",
              "\n",
              "      async function convertToInteractive(key) {\n",
              "        const element = document.querySelector('#df-f4277405-b876-4045-8af0-0038d46e5d39');\n",
              "        const dataTable =\n",
              "          await google.colab.kernel.invokeFunction('convertToInteractive',\n",
              "                                                    [key], {});\n",
              "        if (!dataTable) return;\n",
              "\n",
              "        const docLinkHtml = 'Like what you see? Visit the ' +\n",
              "          '<a target=\"_blank\" href=https://colab.research.google.com/notebooks/data_table.ipynb>data table notebook</a>'\n",
              "          + ' to learn more about interactive tables.';\n",
              "        element.innerHTML = '';\n",
              "        dataTable['output_type'] = 'display_data';\n",
              "        await google.colab.output.renderOutput(dataTable, element);\n",
              "        const docLink = document.createElement('div');\n",
              "        docLink.innerHTML = docLinkHtml;\n",
              "        element.appendChild(docLink);\n",
              "      }\n",
              "    </script>\n",
              "  </div>\n",
              "\n",
              "\n",
              "<div id=\"df-dde18cc7-8d27-4abc-91a8-e13e5951e021\">\n",
              "  <button class=\"colab-df-quickchart\" onclick=\"quickchart('df-dde18cc7-8d27-4abc-91a8-e13e5951e021')\"\n",
              "            title=\"Suggest charts\"\n",
              "            style=\"display:none;\">\n",
              "\n",
              "<svg xmlns=\"http://www.w3.org/2000/svg\" height=\"24px\"viewBox=\"0 0 24 24\"\n",
              "     width=\"24px\">\n",
              "    <g>\n",
              "        <path d=\"M19 3H5c-1.1 0-2 .9-2 2v14c0 1.1.9 2 2 2h14c1.1 0 2-.9 2-2V5c0-1.1-.9-2-2-2zM9 17H7v-7h2v7zm4 0h-2V7h2v10zm4 0h-2v-4h2v4z\"/>\n",
              "    </g>\n",
              "</svg>\n",
              "  </button>\n",
              "\n",
              "<style>\n",
              "  .colab-df-quickchart {\n",
              "      --bg-color: #E8F0FE;\n",
              "      --fill-color: #1967D2;\n",
              "      --hover-bg-color: #E2EBFA;\n",
              "      --hover-fill-color: #174EA6;\n",
              "      --disabled-fill-color: #AAA;\n",
              "      --disabled-bg-color: #DDD;\n",
              "  }\n",
              "\n",
              "  [theme=dark] .colab-df-quickchart {\n",
              "      --bg-color: #3B4455;\n",
              "      --fill-color: #D2E3FC;\n",
              "      --hover-bg-color: #434B5C;\n",
              "      --hover-fill-color: #FFFFFF;\n",
              "      --disabled-bg-color: #3B4455;\n",
              "      --disabled-fill-color: #666;\n",
              "  }\n",
              "\n",
              "  .colab-df-quickchart {\n",
              "    background-color: var(--bg-color);\n",
              "    border: none;\n",
              "    border-radius: 50%;\n",
              "    cursor: pointer;\n",
              "    display: none;\n",
              "    fill: var(--fill-color);\n",
              "    height: 32px;\n",
              "    padding: 0;\n",
              "    width: 32px;\n",
              "  }\n",
              "\n",
              "  .colab-df-quickchart:hover {\n",
              "    background-color: var(--hover-bg-color);\n",
              "    box-shadow: 0 1px 2px rgba(60, 64, 67, 0.3), 0 1px 3px 1px rgba(60, 64, 67, 0.15);\n",
              "    fill: var(--button-hover-fill-color);\n",
              "  }\n",
              "\n",
              "  .colab-df-quickchart-complete:disabled,\n",
              "  .colab-df-quickchart-complete:disabled:hover {\n",
              "    background-color: var(--disabled-bg-color);\n",
              "    fill: var(--disabled-fill-color);\n",
              "    box-shadow: none;\n",
              "  }\n",
              "\n",
              "  .colab-df-spinner {\n",
              "    border: 2px solid var(--fill-color);\n",
              "    border-color: transparent;\n",
              "    border-bottom-color: var(--fill-color);\n",
              "    animation:\n",
              "      spin 1s steps(1) infinite;\n",
              "  }\n",
              "\n",
              "  @keyframes spin {\n",
              "    0% {\n",
              "      border-color: transparent;\n",
              "      border-bottom-color: var(--fill-color);\n",
              "      border-left-color: var(--fill-color);\n",
              "    }\n",
              "    20% {\n",
              "      border-color: transparent;\n",
              "      border-left-color: var(--fill-color);\n",
              "      border-top-color: var(--fill-color);\n",
              "    }\n",
              "    30% {\n",
              "      border-color: transparent;\n",
              "      border-left-color: var(--fill-color);\n",
              "      border-top-color: var(--fill-color);\n",
              "      border-right-color: var(--fill-color);\n",
              "    }\n",
              "    40% {\n",
              "      border-color: transparent;\n",
              "      border-right-color: var(--fill-color);\n",
              "      border-top-color: var(--fill-color);\n",
              "    }\n",
              "    60% {\n",
              "      border-color: transparent;\n",
              "      border-right-color: var(--fill-color);\n",
              "    }\n",
              "    80% {\n",
              "      border-color: transparent;\n",
              "      border-right-color: var(--fill-color);\n",
              "      border-bottom-color: var(--fill-color);\n",
              "    }\n",
              "    90% {\n",
              "      border-color: transparent;\n",
              "      border-bottom-color: var(--fill-color);\n",
              "    }\n",
              "  }\n",
              "</style>\n",
              "\n",
              "  <script>\n",
              "    async function quickchart(key) {\n",
              "      const quickchartButtonEl =\n",
              "        document.querySelector('#' + key + ' button');\n",
              "      quickchartButtonEl.disabled = true;  // To prevent multiple clicks.\n",
              "      quickchartButtonEl.classList.add('colab-df-spinner');\n",
              "      try {\n",
              "        const charts = await google.colab.kernel.invokeFunction(\n",
              "            'suggestCharts', [key], {});\n",
              "      } catch (error) {\n",
              "        console.error('Error during call to suggestCharts:', error);\n",
              "      }\n",
              "      quickchartButtonEl.classList.remove('colab-df-spinner');\n",
              "      quickchartButtonEl.classList.add('colab-df-quickchart-complete');\n",
              "    }\n",
              "    (() => {\n",
              "      let quickchartButtonEl =\n",
              "        document.querySelector('#df-dde18cc7-8d27-4abc-91a8-e13e5951e021 button');\n",
              "      quickchartButtonEl.style.display =\n",
              "        google.colab.kernel.accessAllowed ? 'block' : 'none';\n",
              "    })();\n",
              "  </script>\n",
              "</div>\n",
              "    </div>\n",
              "  </div>\n"
            ],
            "application/vnd.google.colaboratory.intrinsic+json": {
              "type": "dataframe",
              "variable_name": "final_df",
              "summary": "{\n  \"name\": \"final_df\",\n  \"rows\": 634,\n  \"fields\": [\n    {\n      \"column\": \"Prescribed_for\",\n      \"properties\": {\n        \"dtype\": \"string\",\n        \"num_unique_values\": 634,\n        \"samples\": [\n          \"Ophthalmic Surgery\",\n          \"Herpes Zoster, Prophylaxis\",\n          \"Gingivitis\"\n        ],\n        \"semantic_type\": \"\",\n        \"description\": \"\"\n      }\n    },\n    {\n      \"column\": \"DrugName_list\",\n      \"properties\": {\n        \"dtype\": \"object\",\n        \"semantic_type\": \"\",\n        \"description\": \"\"\n      }\n    },\n    {\n      \"column\": \"Symptoms\",\n      \"properties\": {\n        \"dtype\": \"object\",\n        \"semantic_type\": \"\",\n        \"description\": \"\"\n      }\n    }\n  ]\n}"
            }
          },
          "metadata": {},
          "execution_count": 101
        }
      ],
      "source": [
        "final_df.head(5)"
      ]
    },
    {
      "cell_type": "markdown",
      "source": [
        "## Inserting Length column which depicts the length of Symptoms\n"
      ],
      "metadata": {
        "id": "31h0jD9xbHd2"
      }
    },
    {
      "cell_type": "code",
      "source": [
        "final_df['Symptoms'] = final_df['Symptoms'].astype(str)\n",
        "final_df['Symptoms_Length'] = final_df['Symptoms'].apply(len)\n",
        "final_df"
      ],
      "metadata": {
        "colab": {
          "base_uri": "https://localhost:8080/",
          "height": 476
        },
        "id": "lKQT2_s7bF7G",
        "outputId": "900ab90f-78f0-4a4d-fd6d-4554e8365982"
      },
      "execution_count": 102,
      "outputs": [
        {
          "output_type": "execute_result",
          "data": {
            "text/plain": [
              "                Prescribed_for  \\\n",
              "0                         ADHD   \n",
              "1         AIDS Related Wasting   \n",
              "2    Abnormal Uterine Bleeding   \n",
              "3                     Abortion   \n",
              "4       Acetaminophen Overdose   \n",
              "..                         ...   \n",
              "629                   moterol)   \n",
              "630  mulation) (phenylephrine)   \n",
              "631    tic (mycophenolic acid)   \n",
              "632   von Willebrand's Disease   \n",
              "633                zen Shoulde   \n",
              "\n",
              "                                         DrugName_list  \\\n",
              "0    [Clonidine, Bupropion, Vyvanse, Dexmethylpheni...   \n",
              "1                                           [Serostim]   \n",
              "2    [Ethinyl estradiol / levonorgestrel, Mirena, L...   \n",
              "3                                        [Misoprostol]   \n",
              "4                                        [Mucomyst-10]   \n",
              "..                                                 ...   \n",
              "629  [Budesonide / formoterol, Formoterol, Arformot...   \n",
              "630                                    [Phenylephrine]   \n",
              "631                                [Mycophenolic acid]   \n",
              "632                                     [Desmopressin]   \n",
              "633             [Diclofenac, Voltaren, Aleve, Relafen]   \n",
              "\n",
              "                                              Symptoms  Symptoms_Length  \n",
              "0    Inattention carelessness hyperactivity executi...              134  \n",
              "1    Early : Flu-like illness Later : Large lymph n...               71  \n",
              "2    Irregular, abnormally frequent, prolonged, or ...               83  \n",
              "3                                                  nan                3  \n",
              "4    Early : Non specific, feeling tired, abdominal...              121  \n",
              "..                                                 ...              ...  \n",
              "629                                                nan                3  \n",
              "630                                                nan                3  \n",
              "631                                                nan                3  \n",
              "632                        Easy and prolonged bleeding               27  \n",
              "633                                                nan                3  \n",
              "\n",
              "[634 rows x 4 columns]"
            ],
            "text/html": [
              "\n",
              "  <div id=\"df-6268fa3e-39c4-4bcc-aa02-80d9cc280f64\" class=\"colab-df-container\">\n",
              "    <div>\n",
              "<style scoped>\n",
              "    .dataframe tbody tr th:only-of-type {\n",
              "        vertical-align: middle;\n",
              "    }\n",
              "\n",
              "    .dataframe tbody tr th {\n",
              "        vertical-align: top;\n",
              "    }\n",
              "\n",
              "    .dataframe thead th {\n",
              "        text-align: right;\n",
              "    }\n",
              "</style>\n",
              "<table border=\"1\" class=\"dataframe\">\n",
              "  <thead>\n",
              "    <tr style=\"text-align: right;\">\n",
              "      <th></th>\n",
              "      <th>Prescribed_for</th>\n",
              "      <th>DrugName_list</th>\n",
              "      <th>Symptoms</th>\n",
              "      <th>Symptoms_Length</th>\n",
              "    </tr>\n",
              "  </thead>\n",
              "  <tbody>\n",
              "    <tr>\n",
              "      <th>0</th>\n",
              "      <td>ADHD</td>\n",
              "      <td>[Clonidine, Bupropion, Vyvanse, Dexmethylpheni...</td>\n",
              "      <td>Inattention carelessness hyperactivity executi...</td>\n",
              "      <td>134</td>\n",
              "    </tr>\n",
              "    <tr>\n",
              "      <th>1</th>\n",
              "      <td>AIDS Related Wasting</td>\n",
              "      <td>[Serostim]</td>\n",
              "      <td>Early : Flu-like illness Later : Large lymph n...</td>\n",
              "      <td>71</td>\n",
              "    </tr>\n",
              "    <tr>\n",
              "      <th>2</th>\n",
              "      <td>Abnormal Uterine Bleeding</td>\n",
              "      <td>[Ethinyl estradiol / levonorgestrel, Mirena, L...</td>\n",
              "      <td>Irregular, abnormally frequent, prolonged, or ...</td>\n",
              "      <td>83</td>\n",
              "    </tr>\n",
              "    <tr>\n",
              "      <th>3</th>\n",
              "      <td>Abortion</td>\n",
              "      <td>[Misoprostol]</td>\n",
              "      <td>nan</td>\n",
              "      <td>3</td>\n",
              "    </tr>\n",
              "    <tr>\n",
              "      <th>4</th>\n",
              "      <td>Acetaminophen Overdose</td>\n",
              "      <td>[Mucomyst-10]</td>\n",
              "      <td>Early : Non specific, feeling tired, abdominal...</td>\n",
              "      <td>121</td>\n",
              "    </tr>\n",
              "    <tr>\n",
              "      <th>...</th>\n",
              "      <td>...</td>\n",
              "      <td>...</td>\n",
              "      <td>...</td>\n",
              "      <td>...</td>\n",
              "    </tr>\n",
              "    <tr>\n",
              "      <th>629</th>\n",
              "      <td>moterol)</td>\n",
              "      <td>[Budesonide / formoterol, Formoterol, Arformot...</td>\n",
              "      <td>nan</td>\n",
              "      <td>3</td>\n",
              "    </tr>\n",
              "    <tr>\n",
              "      <th>630</th>\n",
              "      <td>mulation) (phenylephrine)</td>\n",
              "      <td>[Phenylephrine]</td>\n",
              "      <td>nan</td>\n",
              "      <td>3</td>\n",
              "    </tr>\n",
              "    <tr>\n",
              "      <th>631</th>\n",
              "      <td>tic (mycophenolic acid)</td>\n",
              "      <td>[Mycophenolic acid]</td>\n",
              "      <td>nan</td>\n",
              "      <td>3</td>\n",
              "    </tr>\n",
              "    <tr>\n",
              "      <th>632</th>\n",
              "      <td>von Willebrand's Disease</td>\n",
              "      <td>[Desmopressin]</td>\n",
              "      <td>Easy and prolonged bleeding</td>\n",
              "      <td>27</td>\n",
              "    </tr>\n",
              "    <tr>\n",
              "      <th>633</th>\n",
              "      <td>zen Shoulde</td>\n",
              "      <td>[Diclofenac, Voltaren, Aleve, Relafen]</td>\n",
              "      <td>nan</td>\n",
              "      <td>3</td>\n",
              "    </tr>\n",
              "  </tbody>\n",
              "</table>\n",
              "<p>634 rows × 4 columns</p>\n",
              "</div>\n",
              "    <div class=\"colab-df-buttons\">\n",
              "\n",
              "  <div class=\"colab-df-container\">\n",
              "    <button class=\"colab-df-convert\" onclick=\"convertToInteractive('df-6268fa3e-39c4-4bcc-aa02-80d9cc280f64')\"\n",
              "            title=\"Convert this dataframe to an interactive table.\"\n",
              "            style=\"display:none;\">\n",
              "\n",
              "  <svg xmlns=\"http://www.w3.org/2000/svg\" height=\"24px\" viewBox=\"0 -960 960 960\">\n",
              "    <path d=\"M120-120v-720h720v720H120Zm60-500h600v-160H180v160Zm220 220h160v-160H400v160Zm0 220h160v-160H400v160ZM180-400h160v-160H180v160Zm440 0h160v-160H620v160ZM180-180h160v-160H180v160Zm440 0h160v-160H620v160Z\"/>\n",
              "  </svg>\n",
              "    </button>\n",
              "\n",
              "  <style>\n",
              "    .colab-df-container {\n",
              "      display:flex;\n",
              "      gap: 12px;\n",
              "    }\n",
              "\n",
              "    .colab-df-convert {\n",
              "      background-color: #E8F0FE;\n",
              "      border: none;\n",
              "      border-radius: 50%;\n",
              "      cursor: pointer;\n",
              "      display: none;\n",
              "      fill: #1967D2;\n",
              "      height: 32px;\n",
              "      padding: 0 0 0 0;\n",
              "      width: 32px;\n",
              "    }\n",
              "\n",
              "    .colab-df-convert:hover {\n",
              "      background-color: #E2EBFA;\n",
              "      box-shadow: 0px 1px 2px rgba(60, 64, 67, 0.3), 0px 1px 3px 1px rgba(60, 64, 67, 0.15);\n",
              "      fill: #174EA6;\n",
              "    }\n",
              "\n",
              "    .colab-df-buttons div {\n",
              "      margin-bottom: 4px;\n",
              "    }\n",
              "\n",
              "    [theme=dark] .colab-df-convert {\n",
              "      background-color: #3B4455;\n",
              "      fill: #D2E3FC;\n",
              "    }\n",
              "\n",
              "    [theme=dark] .colab-df-convert:hover {\n",
              "      background-color: #434B5C;\n",
              "      box-shadow: 0px 1px 3px 1px rgba(0, 0, 0, 0.15);\n",
              "      filter: drop-shadow(0px 1px 2px rgba(0, 0, 0, 0.3));\n",
              "      fill: #FFFFFF;\n",
              "    }\n",
              "  </style>\n",
              "\n",
              "    <script>\n",
              "      const buttonEl =\n",
              "        document.querySelector('#df-6268fa3e-39c4-4bcc-aa02-80d9cc280f64 button.colab-df-convert');\n",
              "      buttonEl.style.display =\n",
              "        google.colab.kernel.accessAllowed ? 'block' : 'none';\n",
              "\n",
              "      async function convertToInteractive(key) {\n",
              "        const element = document.querySelector('#df-6268fa3e-39c4-4bcc-aa02-80d9cc280f64');\n",
              "        const dataTable =\n",
              "          await google.colab.kernel.invokeFunction('convertToInteractive',\n",
              "                                                    [key], {});\n",
              "        if (!dataTable) return;\n",
              "\n",
              "        const docLinkHtml = 'Like what you see? Visit the ' +\n",
              "          '<a target=\"_blank\" href=https://colab.research.google.com/notebooks/data_table.ipynb>data table notebook</a>'\n",
              "          + ' to learn more about interactive tables.';\n",
              "        element.innerHTML = '';\n",
              "        dataTable['output_type'] = 'display_data';\n",
              "        await google.colab.output.renderOutput(dataTable, element);\n",
              "        const docLink = document.createElement('div');\n",
              "        docLink.innerHTML = docLinkHtml;\n",
              "        element.appendChild(docLink);\n",
              "      }\n",
              "    </script>\n",
              "  </div>\n",
              "\n",
              "\n",
              "<div id=\"df-cbe5ae4d-bcec-4af3-bcd6-7acbb4eb9496\">\n",
              "  <button class=\"colab-df-quickchart\" onclick=\"quickchart('df-cbe5ae4d-bcec-4af3-bcd6-7acbb4eb9496')\"\n",
              "            title=\"Suggest charts\"\n",
              "            style=\"display:none;\">\n",
              "\n",
              "<svg xmlns=\"http://www.w3.org/2000/svg\" height=\"24px\"viewBox=\"0 0 24 24\"\n",
              "     width=\"24px\">\n",
              "    <g>\n",
              "        <path d=\"M19 3H5c-1.1 0-2 .9-2 2v14c0 1.1.9 2 2 2h14c1.1 0 2-.9 2-2V5c0-1.1-.9-2-2-2zM9 17H7v-7h2v7zm4 0h-2V7h2v10zm4 0h-2v-4h2v4z\"/>\n",
              "    </g>\n",
              "</svg>\n",
              "  </button>\n",
              "\n",
              "<style>\n",
              "  .colab-df-quickchart {\n",
              "      --bg-color: #E8F0FE;\n",
              "      --fill-color: #1967D2;\n",
              "      --hover-bg-color: #E2EBFA;\n",
              "      --hover-fill-color: #174EA6;\n",
              "      --disabled-fill-color: #AAA;\n",
              "      --disabled-bg-color: #DDD;\n",
              "  }\n",
              "\n",
              "  [theme=dark] .colab-df-quickchart {\n",
              "      --bg-color: #3B4455;\n",
              "      --fill-color: #D2E3FC;\n",
              "      --hover-bg-color: #434B5C;\n",
              "      --hover-fill-color: #FFFFFF;\n",
              "      --disabled-bg-color: #3B4455;\n",
              "      --disabled-fill-color: #666;\n",
              "  }\n",
              "\n",
              "  .colab-df-quickchart {\n",
              "    background-color: var(--bg-color);\n",
              "    border: none;\n",
              "    border-radius: 50%;\n",
              "    cursor: pointer;\n",
              "    display: none;\n",
              "    fill: var(--fill-color);\n",
              "    height: 32px;\n",
              "    padding: 0;\n",
              "    width: 32px;\n",
              "  }\n",
              "\n",
              "  .colab-df-quickchart:hover {\n",
              "    background-color: var(--hover-bg-color);\n",
              "    box-shadow: 0 1px 2px rgba(60, 64, 67, 0.3), 0 1px 3px 1px rgba(60, 64, 67, 0.15);\n",
              "    fill: var(--button-hover-fill-color);\n",
              "  }\n",
              "\n",
              "  .colab-df-quickchart-complete:disabled,\n",
              "  .colab-df-quickchart-complete:disabled:hover {\n",
              "    background-color: var(--disabled-bg-color);\n",
              "    fill: var(--disabled-fill-color);\n",
              "    box-shadow: none;\n",
              "  }\n",
              "\n",
              "  .colab-df-spinner {\n",
              "    border: 2px solid var(--fill-color);\n",
              "    border-color: transparent;\n",
              "    border-bottom-color: var(--fill-color);\n",
              "    animation:\n",
              "      spin 1s steps(1) infinite;\n",
              "  }\n",
              "\n",
              "  @keyframes spin {\n",
              "    0% {\n",
              "      border-color: transparent;\n",
              "      border-bottom-color: var(--fill-color);\n",
              "      border-left-color: var(--fill-color);\n",
              "    }\n",
              "    20% {\n",
              "      border-color: transparent;\n",
              "      border-left-color: var(--fill-color);\n",
              "      border-top-color: var(--fill-color);\n",
              "    }\n",
              "    30% {\n",
              "      border-color: transparent;\n",
              "      border-left-color: var(--fill-color);\n",
              "      border-top-color: var(--fill-color);\n",
              "      border-right-color: var(--fill-color);\n",
              "    }\n",
              "    40% {\n",
              "      border-color: transparent;\n",
              "      border-right-color: var(--fill-color);\n",
              "      border-top-color: var(--fill-color);\n",
              "    }\n",
              "    60% {\n",
              "      border-color: transparent;\n",
              "      border-right-color: var(--fill-color);\n",
              "    }\n",
              "    80% {\n",
              "      border-color: transparent;\n",
              "      border-right-color: var(--fill-color);\n",
              "      border-bottom-color: var(--fill-color);\n",
              "    }\n",
              "    90% {\n",
              "      border-color: transparent;\n",
              "      border-bottom-color: var(--fill-color);\n",
              "    }\n",
              "  }\n",
              "</style>\n",
              "\n",
              "  <script>\n",
              "    async function quickchart(key) {\n",
              "      const quickchartButtonEl =\n",
              "        document.querySelector('#' + key + ' button');\n",
              "      quickchartButtonEl.disabled = true;  // To prevent multiple clicks.\n",
              "      quickchartButtonEl.classList.add('colab-df-spinner');\n",
              "      try {\n",
              "        const charts = await google.colab.kernel.invokeFunction(\n",
              "            'suggestCharts', [key], {});\n",
              "      } catch (error) {\n",
              "        console.error('Error during call to suggestCharts:', error);\n",
              "      }\n",
              "      quickchartButtonEl.classList.remove('colab-df-spinner');\n",
              "      quickchartButtonEl.classList.add('colab-df-quickchart-complete');\n",
              "    }\n",
              "    (() => {\n",
              "      let quickchartButtonEl =\n",
              "        document.querySelector('#df-cbe5ae4d-bcec-4af3-bcd6-7acbb4eb9496 button');\n",
              "      quickchartButtonEl.style.display =\n",
              "        google.colab.kernel.accessAllowed ? 'block' : 'none';\n",
              "    })();\n",
              "  </script>\n",
              "</div>\n",
              "    </div>\n",
              "  </div>\n"
            ],
            "application/vnd.google.colaboratory.intrinsic+json": {
              "type": "dataframe",
              "variable_name": "final_df",
              "summary": "{\n  \"name\": \"final_df\",\n  \"rows\": 634,\n  \"fields\": [\n    {\n      \"column\": \"Prescribed_for\",\n      \"properties\": {\n        \"dtype\": \"string\",\n        \"num_unique_values\": 634,\n        \"samples\": [\n          \"Ophthalmic Surgery\",\n          \"Herpes Zoster, Prophylaxis\",\n          \"Gingivitis\"\n        ],\n        \"semantic_type\": \"\",\n        \"description\": \"\"\n      }\n    },\n    {\n      \"column\": \"DrugName_list\",\n      \"properties\": {\n        \"dtype\": \"object\",\n        \"semantic_type\": \"\",\n        \"description\": \"\"\n      }\n    },\n    {\n      \"column\": \"Symptoms\",\n      \"properties\": {\n        \"dtype\": \"string\",\n        \"num_unique_values\": 339,\n        \"samples\": [\n          \"Shortness of breath , chest pain , coughing up blood\",\n          \"Shooting pain , numbness , tingling, tremors, bladder problems, unsteadiness\",\n          \"Increased thirst , frequent urination , unexplained weight loss , increased hunger\"\n        ],\n        \"semantic_type\": \"\",\n        \"description\": \"\"\n      }\n    },\n    {\n      \"column\": \"Symptoms_Length\",\n      \"properties\": {\n        \"dtype\": \"number\",\n        \"std\": 214,\n        \"min\": 3,\n        \"max\": 2402,\n        \"num_unique_values\": 131,\n        \"samples\": [\n          29,\n          108,\n          67\n        ],\n        \"semantic_type\": \"\",\n        \"description\": \"\"\n      }\n    }\n  ]\n}"
            }
          },
          "metadata": {},
          "execution_count": 102
        }
      ]
    },
    {
      "cell_type": "markdown",
      "source": [
        "## Co-ocurences of diseases - Which Diseases come together"
      ],
      "metadata": {
        "id": "fILiJGSLl5-0"
      }
    },
    {
      "cell_type": "code",
      "source": [
        "from itertools import combinations\n",
        "from collections import Counter\n",
        "\n",
        "\n",
        "# Tokenizing the diseases\n",
        "diseases_tokenized = final_df['Prescribed_for'].str.split(', ')\n",
        "\n",
        "# co-occurrences of diseases- counting\n",
        "disease_pairs = Counter()\n",
        "for diseases in diseases_tokenized:\n",
        "    disease_pairs.update(combinations(diseases, 2))\n",
        "\n",
        "# Most common diseases occuring together\n",
        "print(\"Diseases that are occuring together are : \\n\")\n",
        "for pair, count in disease_pairs.most_common(20):\n",
        "    print(pair, \"-\", count)\n"
      ],
      "metadata": {
        "colab": {
          "base_uri": "https://localhost:8080/"
        },
        "id": "D5znXVTqbGAY",
        "outputId": "82cb99ec-2f09-44a9-a567-fea79f30ff84"
      },
      "execution_count": 103,
      "outputs": [
        {
          "output_type": "stream",
          "name": "stdout",
          "text": [
            "Diseases that are occuring together are : \n",
            "\n",
            "('Anemia', 'Chemotherapy Induced') - 1\n",
            "('Anemia', 'Sickle Cell') - 1\n",
            "('Aspergillosis', 'Aspergilloma') - 1\n",
            "('Asthma', 'Maintenance') - 1\n",
            "('Asthma', 'acute') - 1\n",
            "('Breast Cancer', 'Adjuvant') - 1\n",
            "('Breast Cancer', 'Metastatic') - 1\n",
            "('Breast Cancer', 'Palliative') - 1\n",
            "('Breast Cancer', 'Prevention') - 1\n",
            "('Burns', 'External') - 1\n",
            "('COPD', 'Acute') - 1\n",
            "('COPD', 'Maintenance') - 1\n",
            "('Conjunctivitis', 'Allergic') - 1\n",
            "('Conjunctivitis', 'Bacterial') - 1\n",
            "('Constipation', 'Acute') - 1\n",
            "('Constipation', 'Chronic') - 1\n",
            "('Constipation', 'Drug Induced') - 1\n",
            "(\"Crohn's Disease\", 'Acute') - 1\n",
            "(\"Crohn's Disease\", 'Maintenance') - 1\n",
            "('Deep Vein Thrombosis', 'First Event') - 1\n"
          ]
        }
      ]
    },
    {
      "cell_type": "code",
      "source": [],
      "metadata": {
        "id": "73_D8myTbGDb"
      },
      "execution_count": 103,
      "outputs": []
    },
    {
      "cell_type": "markdown",
      "source": [
        "## Co-ocurences of Symptoms - Which Symptoms come together"
      ],
      "metadata": {
        "id": "1Gno2UJ7mKjk"
      }
    },
    {
      "cell_type": "code",
      "source": [
        "# Tokenizing the symptoms\n",
        "symptoms_tokenized = final_df['Symptoms'].str.split(', ')\n",
        "\n",
        "# Countig the co-occurrences of symptoms\n",
        "symptom_pairs = Counter()\n",
        "for symptoms in symptoms_tokenized:\n",
        "  symptom_pairs.update(combinations(symptoms,3))\n",
        "\n",
        "\n",
        "# Most common symptoms occuring together\n",
        "print(\"Symptoms that are occuring together are : \\n\")\n",
        "symptom_cooccuring={}\n",
        "for pair, count in symptom_pairs.most_common(30):\n",
        "  symptom_cooccuring[pair]=count\n",
        "  print(pair, \"-\", count)\n"
      ],
      "metadata": {
        "colab": {
          "base_uri": "https://localhost:8080/"
        },
        "id": "cRO-GU1zmNmM",
        "outputId": "56030a22-9dc2-4da1-8418-755a94943ac2"
      },
      "execution_count": 104,
      "outputs": [
        {
          "output_type": "stream",
          "name": "stdout",
          "text": [
            "Symptoms that are occuring together are : \n",
            "\n",
            "('Abdominal pain ', 'fever ', 'fatigue ') - 9\n",
            "('Abdominal pain ', 'weight loss ', 'fatigue ') - 9\n",
            "('Infrequent or hard to pass bowel movements ', 'abdominal pain', 'bloating') - 5\n",
            "('Pain', 'swelling ', 'redness') - 5\n",
            "('Pain', 'swelling ', 'enlarged veins in the affected limb') - 5\n",
            "('Pain', 'redness', 'enlarged veins in the affected limb') - 5\n",
            "('swelling ', 'redness', 'enlarged veins in the affected limb') - 5\n",
            "('Abdominal pain ', 'diarrhea mixed with blood ', 'weight loss ') - 5\n",
            "('Abdominal pain ', 'diarrhea mixed with blood ', 'fever ') - 5\n",
            "('Abdominal pain ', 'diarrhea mixed with blood ', 'anemia ') - 5\n",
            "('Abdominal pain ', 'diarrhea mixed with blood ', 'dehydration ') - 5\n",
            "('Abdominal pain ', 'diarrhea mixed with blood ', 'loss of appetite') - 5\n",
            "('Abdominal pain ', 'diarrhea mixed with blood ', 'fatigue ') - 5\n",
            "('Abdominal pain ', 'diarrhea mixed with blood ', 'sores on the skin') - 5\n",
            "('Abdominal pain ', 'diarrhea mixed with blood ', 'urgency to defecate') - 5\n",
            "('Abdominal pain ', 'diarrhea mixed with blood ', 'inability to defecate despite urgency') - 5\n",
            "('Abdominal pain ', 'diarrhea mixed with blood ', 'rectal pain') - 5\n",
            "('Abdominal pain ', 'weight loss ', 'fever ') - 5\n",
            "('Abdominal pain ', 'weight loss ', 'anemia ') - 5\n",
            "('Abdominal pain ', 'weight loss ', 'dehydration ') - 5\n",
            "('Abdominal pain ', 'weight loss ', 'loss of appetite') - 5\n",
            "('Abdominal pain ', 'weight loss ', 'sores on the skin') - 5\n",
            "('Abdominal pain ', 'weight loss ', 'urgency to defecate') - 5\n",
            "('Abdominal pain ', 'weight loss ', 'inability to defecate despite urgency') - 5\n",
            "('Abdominal pain ', 'weight loss ', 'rectal pain') - 5\n",
            "('Abdominal pain ', 'fever ', 'anemia ') - 5\n",
            "('Abdominal pain ', 'fever ', 'dehydration ') - 5\n",
            "('Abdominal pain ', 'fever ', 'loss of appetite') - 5\n",
            "('Abdominal pain ', 'fever ', 'sores on the skin') - 5\n",
            "('Abdominal pain ', 'fever ', 'urgency to defecate') - 5\n"
          ]
        }
      ]
    },
    {
      "cell_type": "code",
      "source": [
        "df = pd.DataFrame(symptom_cooccuring.items(), columns=['Symptom Pair', 'Count'])\n",
        "df = df.groupby('Symptom Pair')['Count'].sum().reset_index()\n",
        "df[['Symptom 1', 'Symptom 2', 'Symptom 3']] = pd.DataFrame(df['Symptom Pair'].tolist(), index=df.index)\n",
        "pivot_table = df.pivot_table(index='Symptom 1', columns='Symptom 2', values='Count', fill_value=0)\n",
        "\n",
        "# Plotting the heatmap\n",
        "plt.figure(figsize=(6, 3))\n",
        "sns.heatmap(pivot_table, annot=True, cmap=\"YlGnBu\", fmt='g')\n",
        "plt.title('Co-occurrence of Symptoms')\n",
        "plt.xlabel('Symptom 2')\n",
        "plt.ylabel('Symptom 1')\n",
        "plt.show()\n"
      ],
      "metadata": {
        "colab": {
          "base_uri": "https://localhost:8080/",
          "height": 506
        },
        "id": "T9eZIx_Hr-Lf",
        "outputId": "0ea0713f-a97f-4669-b6a7-4c94becbf998"
      },
      "execution_count": 122,
      "outputs": [
        {
          "output_type": "display_data",
          "data": {
            "text/plain": [
              "<Figure size 600x300 with 2 Axes>"
            ],
            "image/png": "[encoded data removed]"
          },
          "metadata": {}
        }
      ]
    },
    {
      "cell_type": "code",
      "source": [],
      "metadata": {
        "id": "iB8PNPusx83j"
      },
      "execution_count": null,
      "outputs": []
    }
  ],
  "metadata": {
    "colab": {
      "provenance": []
    },
    "kernelspec": {
      "display_name": "Python 3",
      "name": "python3"
    },
    "language_info": {
      "codemirror_mode": {
        "name": "ipython",
        "version": 3
      },
      "file_extension": ".py",
      "mimetype": "text/x-python",
      "name": "python",
      "nbconvert_exporter": "python",
      "pygments_lexer": "ipython3",
      "version": "3.10.8"
    }
  },
  "nbformat": 4,
  "nbformat_minor": 0
}