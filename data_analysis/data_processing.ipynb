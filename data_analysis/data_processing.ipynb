{
  "cells": [
    {
      "cell_type": "code",
      "execution_count": 52,
      "metadata": {
        "id": "1P4kUSpnlcH6"
      },
      "outputs": [],
      "source": [
        "import pandas as pd\n",
        "from web_scrapping import web_scrape_wikipedia, web_scrape_seattle_children"
      ]
    },
    {
      "cell_type": "markdown",
      "metadata": {},
      "source": [
        "### Loading raw data"
      ]
    },
    {
      "cell_type": "code",
      "execution_count": 76,
      "metadata": {
        "id": "xHPSQqk7ltR4"
      },
      "outputs": [],
      "source": [
        "drug_data = pd.read_csv(\"../data/drug_data.csv\")"
      ]
    },
    {
      "cell_type": "code",
      "execution_count": 77,
      "metadata": {},
      "outputs": [
        {
          "data": {
            "text/plain": [
              "(53766, 6)"
            ]
          },
          "execution_count": 77,
          "metadata": {},
          "output_type": "execute_result"
        }
      ],
      "source": [
        "drug_data.shape"
      ]
    },
    {
      "cell_type": "markdown",
      "metadata": {},
      "source": [
        "### Data Cleaning"
      ]
    },
    {
      "cell_type": "code",
      "execution_count": 119,
      "metadata": {},
      "outputs": [],
      "source": [
        "# Removing nan values in prescribed for\n",
        "drug_data['Prescribed_for'].fillna('', inplace=True)\n",
        "drug_data = drug_data[drug_data['Prescribed_for']!='']"
      ]
    },
    {
      "cell_type": "code",
      "execution_count": 120,
      "metadata": {},
      "outputs": [
        {
          "data": {
            "text/plain": [
              "(53471, 6)"
            ]
          },
          "execution_count": 120,
          "metadata": {},
          "output_type": "execute_result"
        }
      ],
      "source": [
        "drug_data.shape"
      ]
    },
    {
      "cell_type": "code",
      "execution_count": 122,
      "metadata": {},
      "outputs": [],
      "source": [
        "# cleaning the unnecesary disease type\n",
        "patterns_to_remove = [\n",
        "    r\"^\\d+</span> users found this comment helpful\\.$\",\n",
        "    r'Not Listed',\n",
        "    r\"<[^>]+>\",\n",
        "    r'\\([^)]*\\)|\\(.*|.*\\)'\n",
        "]\n",
        "\n",
        "combined_pattern = '|'.join(patterns_to_remove)\n",
        "cleaned_df = drug_data[~drug_data['Prescribed_for'].str.contains(combined_pattern, case=False,regex=True)]\n",
        "\n"
      ]
    },
    {
      "cell_type": "code",
      "execution_count": 124,
      "metadata": {},
      "outputs": [
        {
          "data": {
            "text/plain": [
              "(52957, 6)"
            ]
          },
          "execution_count": 124,
          "metadata": {},
          "output_type": "execute_result"
        }
      ],
      "source": [
        "cleaned_df.shape"
      ]
    },
    {
      "cell_type": "code",
      "execution_count": 125,
      "metadata": {
        "id": "cUQ1wc9VmF1o"
      },
      "outputs": [],
      "source": [
        "disease_list = list(cleaned_df.Prescribed_for.unique())\n"
      ]
    },
    {
      "cell_type": "code",
      "execution_count": 127,
      "metadata": {
        "id": "AOxtlEJOVrw0"
      },
      "outputs": [],
      "source": [
        "#  only considering drugs which has medium to high rating\n",
        "filtered_df = drug_data[(drug_data['Prescribed_for'].isin(disease_list)) & (drug_data['User_Rating']>=5)]"
      ]
    },
    {
      "cell_type": "code",
      "execution_count": 128,
      "metadata": {
        "id": "mKPtgymZY1Fl"
      },
      "outputs": [],
      "source": [
        "aggregated_df = filtered_df.groupby('Prescribed_for').agg(DrugName_list=('drugName', 'unique')).reset_index(drop=False)"
      ]
    },
    {
      "cell_type": "code",
      "execution_count": 129,
      "metadata": {
        "id": "d_mkU1MHZyh1"
      },
      "outputs": [],
      "source": [
        "diseases_final = list(aggregated_df['Prescribed_for'])"
      ]
    },
    {
      "cell_type": "code",
      "execution_count": 130,
      "metadata": {},
      "outputs": [
        {
          "name": "stdout",
          "output_type": "stream",
          "text": [
            "Total Number of unique prescribed_for in the  dataset is 620\n"
          ]
        }
      ],
      "source": [
        "print(\"Total Number of unique prescribed_for in the  dataset is {}\".format(len(diseases_final)))"
      ]
    },
    {
      "cell_type": "markdown",
      "metadata": {
        "id": "rXdh-xAeTCJN"
      },
      "source": [
        "### Web scraping to retrive symptoms from wikipedia"
      ]
    },
    {
      "cell_type": "code",
      "execution_count": 136,
      "metadata": {
        "id": "-hJUpBJkjUh2"
      },
      "outputs": [],
      "source": [
        "disease_with_symptoms = web_scrape_wikipedia(diseases_final)"
      ]
    },
    {
      "cell_type": "code",
      "execution_count": 137,
      "metadata": {
        "colab": {
          "base_uri": "https://localhost:8080/"
        },
        "id": "_fiiFy1BJXyN",
        "outputId": "1d7a0f56-4017-47d1-ccc4-0a75a5e73bcc"
      },
      "outputs": [
        {
          "name": "stdout",
          "output_type": "stream",
          "text": [
            "Number of diseases retrived from wikipedia is 498\n"
          ]
        }
      ],
      "source": [
        "print(\"Number of diseases retrived from wikipedia is {}\".format(len(disease_with_symptoms.keys())))"
      ]
    },
    {
      "cell_type": "code",
      "execution_count": 138,
      "metadata": {
        "id": "UzQkAzDmJXyQ"
      },
      "outputs": [],
      "source": [
        "# extracting diseases that's not been retrieved from wikipedia\n",
        "\n",
        "unretrived_diseases = [key for key in diseases_final if key not in disease_with_symptoms.keys()]"
      ]
    },
    {
      "cell_type": "code",
      "execution_count": 139,
      "metadata": {
        "colab": {
          "base_uri": "https://localhost:8080/"
        },
        "id": "eNKG43ftJXyQ",
        "outputId": "0f5f5885-bd68-4a56-90fe-257e27517def"
      },
      "outputs": [
        {
          "name": "stdout",
          "output_type": "stream",
          "text": [
            "Number of diseases unretrived from wikipedia is 122\n"
          ]
        }
      ],
      "source": [
        "print(\"Number of diseases unretrived from wikipedia is {}\".format(len(unretrived_diseases)))"
      ]
    },
    {
      "cell_type": "markdown",
      "metadata": {
        "id": "yyrxiFPTJXyR"
      },
      "source": [
        "### Web scraping to retrive remaining disease's symptoms from seattlechildren's"
      ]
    },
    {
      "cell_type": "code",
      "execution_count": 140,
      "metadata": {
        "id": "0XXoRgBvJXyR"
      },
      "outputs": [],
      "source": [
        "base_url = 'https://www.seattlechildrens.org'\n",
        "\n",
        "unretrived_diseases_symptoms = web_scrape_seattle_children(base_url, unretrived_diseases)"
      ]
    },
    {
      "cell_type": "code",
      "execution_count": 141,
      "metadata": {
        "id": "WT211oalJXyS"
      },
      "outputs": [],
      "source": [
        "final_disease_symptoms = {**disease_with_symptoms, **unretrived_diseases_symptoms}"
      ]
    },
    {
      "cell_type": "code",
      "execution_count": 142,
      "metadata": {
        "colab": {
          "base_uri": "https://localhost:8080/"
        },
        "id": "CDNQwaqZJXyT",
        "outputId": "04ad22a6-313c-45e3-e014-365bd1b34701"
      },
      "outputs": [
        {
          "name": "stdout",
          "output_type": "stream",
          "text": [
            "Final number of diseases available with symptoms 500\n"
          ]
        }
      ],
      "source": [
        "print(\"Final number of diseases available with symptoms {}\".format(len(final_disease_symptoms.keys())))"
      ]
    },
    {
      "cell_type": "markdown",
      "metadata": {
        "id": "PIy6_VpbJXyV"
      },
      "source": [
        "### creating final dataframe with all the disease's, symptoms with drug list prescribed_for"
      ]
    },
    {
      "cell_type": "code",
      "execution_count": 149,
      "metadata": {
        "id": "YFK5RiERJXyV"
      },
      "outputs": [],
      "source": [
        "prescribed_for,disease, symptoms = [], [],[]\n",
        "for key, value in disease_with_symptoms.items():\n",
        "    prescribed_for.append(key)\n",
        "    disease.append(value[0])\n",
        "    symptoms.append(value[1])\n"
      ]
    },
    {
      "cell_type": "code",
      "execution_count": 151,
      "metadata": {
        "id": "eKug70lLJXyV"
      },
      "outputs": [],
      "source": [
        "symptoms_df = pd.DataFrame({'Prescribed_for': prescribed_for, 'Disease':disease, 'Symptoms': symptoms}, index=range(1, len(disease_with_symptoms) + 1))"
      ]
    },
    {
      "cell_type": "code",
      "execution_count": 152,
      "metadata": {
        "id": "E--_YVlsJXyW"
      },
      "outputs": [],
      "source": [
        "final_df = aggregated_df.merge(symptoms_df,on='Prescribed_for', how='left')"
      ]
    },
    {
      "cell_type": "markdown",
      "metadata": {
        "id": "31h0jD9xbHd2"
      },
      "source": [
        "### Inserting Length column which depicts the length of Symptoms\n"
      ]
    },
    {
      "cell_type": "code",
      "execution_count": 153,
      "metadata": {
        "colab": {
          "base_uri": "https://localhost:8080/",
          "height": 419
        },
        "id": "lKQT2_s7bF7G",
        "outputId": "02de07cf-7218-43b7-981e-3d02b4f251a6"
      },
      "outputs": [],
      "source": [
        "final_df['Symptoms'] = final_df['Symptoms'].astype(str)\n",
        "final_df['Symptoms_Length'] = final_df['Symptoms'].apply(len)"
      ]
    },
    {
      "cell_type": "markdown",
      "metadata": {},
      "source": [
        "### No of Drugs for each disease:"
      ]
    },
    {
      "cell_type": "code",
      "execution_count": 154,
      "metadata": {},
      "outputs": [],
      "source": [
        "final_df['Number_of_Drugs'] = final_df['DrugName_list'].apply(lambda x: len(x))"
      ]
    },
    {
      "cell_type": "code",
      "execution_count": 155,
      "metadata": {},
      "outputs": [
        {
          "data": {
            "text/html": [
              "<div>\n",
              "<style scoped>\n",
              "    .dataframe tbody tr th:only-of-type {\n",
              "        vertical-align: middle;\n",
              "    }\n",
              "\n",
              "    .dataframe tbody tr th {\n",
              "        vertical-align: top;\n",
              "    }\n",
              "\n",
              "    .dataframe thead th {\n",
              "        text-align: right;\n",
              "    }\n",
              "</style>\n",
              "<table border=\"1\" class=\"dataframe\">\n",
              "  <thead>\n",
              "    <tr style=\"text-align: right;\">\n",
              "      <th></th>\n",
              "      <th>Prescribed_for</th>\n",
              "      <th>DrugName_list</th>\n",
              "      <th>Disease</th>\n",
              "      <th>Symptoms</th>\n",
              "      <th>Symptoms_Length</th>\n",
              "      <th>Number_of_Drugs</th>\n",
              "    </tr>\n",
              "  </thead>\n",
              "  <tbody>\n",
              "    <tr>\n",
              "      <th>0</th>\n",
              "      <td>ADHD</td>\n",
              "      <td>[Clonidine, Bupropion, Vyvanse, Dexmethylpheni...</td>\n",
              "      <td>Attention deficit hyperactivity disorder</td>\n",
              "      <td>Inattention carelessness hyperactivity executi...</td>\n",
              "      <td>134</td>\n",
              "      <td>46</td>\n",
              "    </tr>\n",
              "    <tr>\n",
              "      <th>1</th>\n",
              "      <td>AIDS Related Wasting</td>\n",
              "      <td>[Serostim]</td>\n",
              "      <td>HIV/AIDS</td>\n",
              "      <td>Early : Flu-like illness Later : Large lymph n...</td>\n",
              "      <td>71</td>\n",
              "      <td>1</td>\n",
              "    </tr>\n",
              "    <tr>\n",
              "      <th>2</th>\n",
              "      <td>Abnormal Uterine Bleeding</td>\n",
              "      <td>[Ethinyl estradiol / levonorgestrel, Mirena, L...</td>\n",
              "      <td>Abnormal uterine bleeding</td>\n",
              "      <td>Irregular, abnormally frequent, prolonged, or ...</td>\n",
              "      <td>83</td>\n",
              "      <td>38</td>\n",
              "    </tr>\n",
              "  </tbody>\n",
              "</table>\n",
              "</div>"
            ],
            "text/plain": [
              "              Prescribed_for  \\\n",
              "0                       ADHD   \n",
              "1       AIDS Related Wasting   \n",
              "2  Abnormal Uterine Bleeding   \n",
              "\n",
              "                                       DrugName_list  \\\n",
              "0  [Clonidine, Bupropion, Vyvanse, Dexmethylpheni...   \n",
              "1                                         [Serostim]   \n",
              "2  [Ethinyl estradiol / levonorgestrel, Mirena, L...   \n",
              "\n",
              "                                    Disease  \\\n",
              "0  Attention deficit hyperactivity disorder   \n",
              "1                                  HIV/AIDS   \n",
              "2                 Abnormal uterine bleeding   \n",
              "\n",
              "                                            Symptoms  Symptoms_Length  \\\n",
              "0  Inattention carelessness hyperactivity executi...              134   \n",
              "1  Early : Flu-like illness Later : Large lymph n...               71   \n",
              "2  Irregular, abnormally frequent, prolonged, or ...               83   \n",
              "\n",
              "   Number_of_Drugs  \n",
              "0               46  \n",
              "1                1  \n",
              "2               38  "
            ]
          },
          "execution_count": 155,
          "metadata": {},
          "output_type": "execute_result"
        }
      ],
      "source": [
        "final_df.head(3)"
      ]
    },
    {
      "cell_type": "code",
      "execution_count": 158,
      "metadata": {},
      "outputs": [],
      "source": [
        "final_df.to_csv(\"../data/data_processed.csv\",index=False)"
      ]
    },
    {
      "cell_type": "code",
      "execution_count": null,
      "metadata": {},
      "outputs": [],
      "source": []
    }
  ],
  "metadata": {
    "colab": {
      "provenance": []
    },
    "kernelspec": {
      "display_name": "Python 3",
      "name": "python3"
    },
    "language_info": {
      "codemirror_mode": {
        "name": "ipython",
        "version": 3
      },
      "file_extension": ".py",
      "mimetype": "text/x-python",
      "name": "python",
      "nbconvert_exporter": "python",
      "pygments_lexer": "ipython3",
      "version": "3.10.8"
    }
  },
  "nbformat": 4,
  "nbformat_minor": 0
}
